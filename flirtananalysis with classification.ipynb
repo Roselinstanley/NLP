{
 "cells": [
  {
   "cell_type": "code",
   "execution_count": 1,
   "id": "e75aca44-e7f3-470b-8a72-7006441014cf",
   "metadata": {},
   "outputs": [],
   "source": [
    "import pandas as pd\n",
    "from sklearn.feature_extraction.text import TfidfVectorizer\n",
    "from sklearn.decomposition import LatentDirichletAllocation \n",
    "from nltk.sentiment.vader import SentimentIntensityAnalyzer\n",
    "from WhatsappFlirtclass import WhatsappFlirt\n",
    "from sklearn.feature_extraction.text import CountVectorizer\n",
    "from sklearn.feature_extraction.text import HashingVectorizer\n",
    "from sklearn.model_selection import train_test_split,GridSearchCV\n",
    "from sklearn.naive_bayes import MultinomialNB\n",
    "from sklearn.ensemble import RandomForestClassifier\n",
    "from sklearn.linear_model import LogisticRegression\n",
    "from sklearn.metrics import confusion_matrix,ConfusionMatrixDisplay,classification_report,accuracy_score,f1_score\n",
    "from imblearn.pipeline import Pipeline\n",
    "import seaborn as sb\n",
    "import matplotlib.pyplot as plt\n",
    "from imblearn.over_sampling import SMOTE"
   ]
  },
  {
   "cell_type": "code",
   "execution_count": 2,
   "id": "cf7f56dc-541d-43fa-9a48-3aad75264eac",
   "metadata": {},
   "outputs": [
    {
     "data": {
      "text/html": [
       "<div>\n",
       "<style scoped>\n",
       "    .dataframe tbody tr th:only-of-type {\n",
       "        vertical-align: middle;\n",
       "    }\n",
       "\n",
       "    .dataframe tbody tr th {\n",
       "        vertical-align: top;\n",
       "    }\n",
       "\n",
       "    .dataframe thead th {\n",
       "        text-align: right;\n",
       "    }\n",
       "</style>\n",
       "<table border=\"1\" class=\"dataframe\">\n",
       "  <thead>\n",
       "    <tr style=\"text-align: right;\">\n",
       "      <th></th>\n",
       "      <th>0</th>\n",
       "      <th>1</th>\n",
       "    </tr>\n",
       "  </thead>\n",
       "  <tbody>\n",
       "    <tr>\n",
       "      <th>0</th>\n",
       "      <td>05/12/19</td>\n",
       "      <td>1:42 pm - Messages to this chat and calls are...</td>\n",
       "    </tr>\n",
       "    <tr>\n",
       "      <th>1</th>\n",
       "      <td>05/12/19</td>\n",
       "      <td>1:42 pm - Mabel Infoziant: Hi this is Mabel w...</td>\n",
       "    </tr>\n",
       "    <tr>\n",
       "      <th>2</th>\n",
       "      <td>05/12/19</td>\n",
       "      <td>1:42 pm - Mabel Infoziant: What’s your full name</td>\n",
       "    </tr>\n",
       "    <tr>\n",
       "      <th>3</th>\n",
       "      <td>05/12/19</td>\n",
       "      <td>1:42 pm - AR❤: Ramisha Rani K</td>\n",
       "    </tr>\n",
       "    <tr>\n",
       "      <th>4</th>\n",
       "      <td>05/12/19</td>\n",
       "      <td>1:42 pm - Mabel Infoziant: Ok</td>\n",
       "    </tr>\n",
       "  </tbody>\n",
       "</table>\n",
       "</div>"
      ],
      "text/plain": [
       "          0                                                  1\n",
       "0  05/12/19   1:42 pm - Messages to this chat and calls are...\n",
       "1  05/12/19   1:42 pm - Mabel Infoziant: Hi this is Mabel w...\n",
       "2  05/12/19   1:42 pm - Mabel Infoziant: What’s your full name\n",
       "3  05/12/19                      1:42 pm - AR❤: Ramisha Rani K\n",
       "4  05/12/19                      1:42 pm - Mabel Infoziant: Ok"
      ]
     },
     "execution_count": 2,
     "metadata": {},
     "output_type": "execute_result"
    }
   ],
   "source": [
    "dataset=pd.read_csv(\"mabel.txt\",header=None,on_bad_lines=\"skip\",encoding=\"utf-8\")\n",
    "dataset.head(5)"
   ]
  },
  {
   "cell_type": "code",
   "execution_count": 3,
   "id": "ac3c2fea-889e-460a-8a66-274409d2df2e",
   "metadata": {},
   "outputs": [],
   "source": [
    "dataset=dataset.drop(0)\n",
    "dataset.columns=[\"Date\",\"Chat\"]"
   ]
  },
  {
   "cell_type": "code",
   "execution_count": 4,
   "id": "527f96f1-55d3-4486-8371-4aa617892bf4",
   "metadata": {},
   "outputs": [
    {
     "data": {
      "text/html": [
       "<div>\n",
       "<style scoped>\n",
       "    .dataframe tbody tr th:only-of-type {\n",
       "        vertical-align: middle;\n",
       "    }\n",
       "\n",
       "    .dataframe tbody tr th {\n",
       "        vertical-align: top;\n",
       "    }\n",
       "\n",
       "    .dataframe thead th {\n",
       "        text-align: right;\n",
       "    }\n",
       "</style>\n",
       "<table border=\"1\" class=\"dataframe\">\n",
       "  <thead>\n",
       "    <tr style=\"text-align: right;\">\n",
       "      <th></th>\n",
       "      <th>0</th>\n",
       "      <th>1</th>\n",
       "    </tr>\n",
       "  </thead>\n",
       "  <tbody>\n",
       "    <tr>\n",
       "      <th>1</th>\n",
       "      <td>1:42 pm</td>\n",
       "      <td>Mabel Infoziant: Hi this is Mabel we just spoke</td>\n",
       "    </tr>\n",
       "    <tr>\n",
       "      <th>2</th>\n",
       "      <td>1:42 pm</td>\n",
       "      <td>Mabel Infoziant: What’s your full name</td>\n",
       "    </tr>\n",
       "    <tr>\n",
       "      <th>3</th>\n",
       "      <td>1:42 pm</td>\n",
       "      <td>AR❤: Ramisha Rani K</td>\n",
       "    </tr>\n",
       "  </tbody>\n",
       "</table>\n",
       "</div>"
      ],
      "text/plain": [
       "           0                                                 1\n",
       "1   1:42 pm    Mabel Infoziant: Hi this is Mabel we just spoke\n",
       "2   1:42 pm             Mabel Infoziant: What’s your full name\n",
       "3   1:42 pm                                AR❤: Ramisha Rani K"
      ]
     },
     "execution_count": 4,
     "metadata": {},
     "output_type": "execute_result"
    }
   ],
   "source": [
    "split_time=dataset[\"Chat\"].str.split(\"-\",n=1,expand=True)\n",
    "split_time.head(3)"
   ]
  },
  {
   "cell_type": "code",
   "execution_count": 5,
   "id": "b0261a20-2004-4873-bac8-1cb5c57073b4",
   "metadata": {},
   "outputs": [
    {
     "data": {
      "text/html": [
       "<div>\n",
       "<style scoped>\n",
       "    .dataframe tbody tr th:only-of-type {\n",
       "        vertical-align: middle;\n",
       "    }\n",
       "\n",
       "    .dataframe tbody tr th {\n",
       "        vertical-align: top;\n",
       "    }\n",
       "\n",
       "    .dataframe thead th {\n",
       "        text-align: right;\n",
       "    }\n",
       "</style>\n",
       "<table border=\"1\" class=\"dataframe\">\n",
       "  <thead>\n",
       "    <tr style=\"text-align: right;\">\n",
       "      <th></th>\n",
       "      <th>Date</th>\n",
       "      <th>Chat</th>\n",
       "      <th>Time</th>\n",
       "    </tr>\n",
       "  </thead>\n",
       "  <tbody>\n",
       "    <tr>\n",
       "      <th>1</th>\n",
       "      <td>05/12/19</td>\n",
       "      <td>1:42 pm - Mabel Infoziant: Hi this is Mabel w...</td>\n",
       "      <td>1:42 pm</td>\n",
       "    </tr>\n",
       "    <tr>\n",
       "      <th>2</th>\n",
       "      <td>05/12/19</td>\n",
       "      <td>1:42 pm - Mabel Infoziant: What’s your full name</td>\n",
       "      <td>1:42 pm</td>\n",
       "    </tr>\n",
       "    <tr>\n",
       "      <th>3</th>\n",
       "      <td>05/12/19</td>\n",
       "      <td>1:42 pm - AR❤: Ramisha Rani K</td>\n",
       "      <td>1:42 pm</td>\n",
       "    </tr>\n",
       "  </tbody>\n",
       "</table>\n",
       "</div>"
      ],
      "text/plain": [
       "       Date                                               Chat       Time\n",
       "1  05/12/19   1:42 pm - Mabel Infoziant: Hi this is Mabel w...   1:42 pm \n",
       "2  05/12/19   1:42 pm - Mabel Infoziant: What’s your full name   1:42 pm \n",
       "3  05/12/19                      1:42 pm - AR❤: Ramisha Rani K   1:42 pm "
      ]
     },
     "execution_count": 5,
     "metadata": {},
     "output_type": "execute_result"
    }
   ],
   "source": [
    "dataset[\"Time\"]=split_time[0]\n",
    "dataset.head(3)"
   ]
  },
  {
   "cell_type": "code",
   "execution_count": 6,
   "id": "53432d4e-01fe-4e7e-9e88-86452eef4e74",
   "metadata": {},
   "outputs": [
    {
     "data": {
      "text/html": [
       "<div>\n",
       "<style scoped>\n",
       "    .dataframe tbody tr th:only-of-type {\n",
       "        vertical-align: middle;\n",
       "    }\n",
       "\n",
       "    .dataframe tbody tr th {\n",
       "        vertical-align: top;\n",
       "    }\n",
       "\n",
       "    .dataframe thead th {\n",
       "        text-align: right;\n",
       "    }\n",
       "</style>\n",
       "<table border=\"1\" class=\"dataframe\">\n",
       "  <thead>\n",
       "    <tr style=\"text-align: right;\">\n",
       "      <th></th>\n",
       "      <th>0</th>\n",
       "      <th>1</th>\n",
       "    </tr>\n",
       "  </thead>\n",
       "  <tbody>\n",
       "    <tr>\n",
       "      <th>1</th>\n",
       "      <td>Mabel Infoziant</td>\n",
       "      <td>Hi this is Mabel we just spoke</td>\n",
       "    </tr>\n",
       "    <tr>\n",
       "      <th>2</th>\n",
       "      <td>Mabel Infoziant</td>\n",
       "      <td>What’s your full name</td>\n",
       "    </tr>\n",
       "    <tr>\n",
       "      <th>3</th>\n",
       "      <td>AR❤</td>\n",
       "      <td>Ramisha Rani K</td>\n",
       "    </tr>\n",
       "  </tbody>\n",
       "</table>\n",
       "</div>"
      ],
      "text/plain": [
       "                  0                                1\n",
       "1   Mabel Infoziant   Hi this is Mabel we just spoke\n",
       "2   Mabel Infoziant            What’s your full name\n",
       "3               AR❤                   Ramisha Rani K"
      ]
     },
     "execution_count": 6,
     "metadata": {},
     "output_type": "execute_result"
    }
   ],
   "source": [
    "split_name=split_time[1].str.split(\":\",n=1,expand=True)\n",
    "split_name.head(3)"
   ]
  },
  {
   "cell_type": "code",
   "execution_count": 7,
   "id": "e71ce625-3285-406e-9d63-4053b3ee0029",
   "metadata": {},
   "outputs": [
    {
     "data": {
      "text/html": [
       "<div>\n",
       "<style scoped>\n",
       "    .dataframe tbody tr th:only-of-type {\n",
       "        vertical-align: middle;\n",
       "    }\n",
       "\n",
       "    .dataframe tbody tr th {\n",
       "        vertical-align: top;\n",
       "    }\n",
       "\n",
       "    .dataframe thead th {\n",
       "        text-align: right;\n",
       "    }\n",
       "</style>\n",
       "<table border=\"1\" class=\"dataframe\">\n",
       "  <thead>\n",
       "    <tr style=\"text-align: right;\">\n",
       "      <th></th>\n",
       "      <th>Date</th>\n",
       "      <th>Time</th>\n",
       "    </tr>\n",
       "  </thead>\n",
       "  <tbody>\n",
       "    <tr>\n",
       "      <th>1</th>\n",
       "      <td>05/12/19</td>\n",
       "      <td>1:42 pm</td>\n",
       "    </tr>\n",
       "    <tr>\n",
       "      <th>2</th>\n",
       "      <td>05/12/19</td>\n",
       "      <td>1:42 pm</td>\n",
       "    </tr>\n",
       "    <tr>\n",
       "      <th>3</th>\n",
       "      <td>05/12/19</td>\n",
       "      <td>1:42 pm</td>\n",
       "    </tr>\n",
       "  </tbody>\n",
       "</table>\n",
       "</div>"
      ],
      "text/plain": [
       "       Date       Time\n",
       "1  05/12/19   1:42 pm \n",
       "2  05/12/19   1:42 pm \n",
       "3  05/12/19   1:42 pm "
      ]
     },
     "execution_count": 7,
     "metadata": {},
     "output_type": "execute_result"
    }
   ],
   "source": [
    "dataset=dataset.drop(\"Chat\",axis=1)\n",
    "dataset.head(3)"
   ]
  },
  {
   "cell_type": "code",
   "execution_count": 8,
   "id": "ac7cfdc5-a1e0-4833-95a5-b43f8e4da4b4",
   "metadata": {},
   "outputs": [
    {
     "data": {
      "text/html": [
       "<div>\n",
       "<style scoped>\n",
       "    .dataframe tbody tr th:only-of-type {\n",
       "        vertical-align: middle;\n",
       "    }\n",
       "\n",
       "    .dataframe tbody tr th {\n",
       "        vertical-align: top;\n",
       "    }\n",
       "\n",
       "    .dataframe thead th {\n",
       "        text-align: right;\n",
       "    }\n",
       "</style>\n",
       "<table border=\"1\" class=\"dataframe\">\n",
       "  <thead>\n",
       "    <tr style=\"text-align: right;\">\n",
       "      <th></th>\n",
       "      <th>Date</th>\n",
       "      <th>Time</th>\n",
       "      <th>Name</th>\n",
       "      <th>Chat</th>\n",
       "    </tr>\n",
       "  </thead>\n",
       "  <tbody>\n",
       "    <tr>\n",
       "      <th>1</th>\n",
       "      <td>05/12/19</td>\n",
       "      <td>1:42 pm</td>\n",
       "      <td>Mabel Infoziant</td>\n",
       "      <td>Hi this is Mabel we just spoke</td>\n",
       "    </tr>\n",
       "    <tr>\n",
       "      <th>2</th>\n",
       "      <td>05/12/19</td>\n",
       "      <td>1:42 pm</td>\n",
       "      <td>Mabel Infoziant</td>\n",
       "      <td>What’s your full name</td>\n",
       "    </tr>\n",
       "    <tr>\n",
       "      <th>3</th>\n",
       "      <td>05/12/19</td>\n",
       "      <td>1:42 pm</td>\n",
       "      <td>AR❤</td>\n",
       "      <td>Ramisha Rani K</td>\n",
       "    </tr>\n",
       "    <tr>\n",
       "      <th>4</th>\n",
       "      <td>05/12/19</td>\n",
       "      <td>1:42 pm</td>\n",
       "      <td>Mabel Infoziant</td>\n",
       "      <td>Ok</td>\n",
       "    </tr>\n",
       "    <tr>\n",
       "      <th>5</th>\n",
       "      <td>05/12/19</td>\n",
       "      <td>1:42 pm</td>\n",
       "      <td>Mabel Infoziant</td>\n",
       "      <td>ramisharanik@gmail.com</td>\n",
       "    </tr>\n",
       "  </tbody>\n",
       "</table>\n",
       "</div>"
      ],
      "text/plain": [
       "       Date       Time              Name                             Chat\n",
       "1  05/12/19   1:42 pm    Mabel Infoziant   Hi this is Mabel we just spoke\n",
       "2  05/12/19   1:42 pm    Mabel Infoziant            What’s your full name\n",
       "3  05/12/19   1:42 pm                AR❤                   Ramisha Rani K\n",
       "4  05/12/19   1:42 pm    Mabel Infoziant                               Ok\n",
       "5  05/12/19   1:42 pm    Mabel Infoziant           ramisharanik@gmail.com"
      ]
     },
     "execution_count": 8,
     "metadata": {},
     "output_type": "execute_result"
    }
   ],
   "source": [
    "dataset[\"Name\"]=split_name[0]\n",
    "dataset[\"Chat\"]=split_name[1]\n",
    "dataset.head(5)"
   ]
  },
  {
   "cell_type": "code",
   "execution_count": 9,
   "id": "13e5231a-f41b-4fad-9ea7-f84a822d9e14",
   "metadata": {},
   "outputs": [],
   "source": [
    "final_dataset=dataset"
   ]
  },
  {
   "cell_type": "code",
   "execution_count": 10,
   "id": "2793894f-70a8-44a3-b6da-5684af3c3d16",
   "metadata": {},
   "outputs": [],
   "source": [
    "def sentiment(data,col_name):\n",
    "    sia=SentimentIntensityAnalyzer()\n",
    "    data['Scores']=data[col_name].apply(lambda chat_text : sia.polarity_scores(chat_text))\n",
    "    data['Compound']=data['Scores'].apply(lambda chat_scores : chat_scores['compound'])\n",
    "    data['Negative']=data['Scores'].apply(lambda chat_scores : chat_scores['neg'])\n",
    "    data['Positive']=data['Scores'].apply(lambda chat_scores : chat_scores['pos'])\n",
    "    data['Neutral']=data['Scores'].apply(lambda chat_scores : chat_scores['neu'])\n",
    "    data['Comp_scores']=data['Compound'].apply(lambda c:'Pos' if c>=0 else 'Neg')\n",
    "    posneg_dataframe=pd.DataFrame(data['Comp_scores'].value_counts())\n",
    "    return posneg_dataframe,data                                          \n",
    "    "
   ]
  },
  {
   "cell_type": "code",
   "execution_count": 11,
   "id": "74a279dc-a271-4854-95df-cf8492fa61f0",
   "metadata": {},
   "outputs": [
    {
     "data": {
      "text/html": [
       "<div>\n",
       "<style scoped>\n",
       "    .dataframe tbody tr th:only-of-type {\n",
       "        vertical-align: middle;\n",
       "    }\n",
       "\n",
       "    .dataframe tbody tr th {\n",
       "        vertical-align: top;\n",
       "    }\n",
       "\n",
       "    .dataframe thead th {\n",
       "        text-align: right;\n",
       "    }\n",
       "</style>\n",
       "<table border=\"1\" class=\"dataframe\">\n",
       "  <thead>\n",
       "    <tr style=\"text-align: right;\">\n",
       "      <th></th>\n",
       "      <th>count</th>\n",
       "    </tr>\n",
       "    <tr>\n",
       "      <th>Comp_scores</th>\n",
       "      <th></th>\n",
       "    </tr>\n",
       "  </thead>\n",
       "  <tbody>\n",
       "    <tr>\n",
       "      <th>Pos</th>\n",
       "      <td>48</td>\n",
       "    </tr>\n",
       "    <tr>\n",
       "      <th>Neg</th>\n",
       "      <td>2</td>\n",
       "    </tr>\n",
       "  </tbody>\n",
       "</table>\n",
       "</div>"
      ],
      "text/plain": [
       "             count\n",
       "Comp_scores       \n",
       "Pos             48\n",
       "Neg              2"
      ]
     },
     "execution_count": 11,
     "metadata": {},
     "output_type": "execute_result"
    }
   ],
   "source": [
    "pos,data=sentiment(final_dataset,col_name=\"Chat\")\n",
    "pos"
   ]
  },
  {
   "cell_type": "code",
   "execution_count": 12,
   "id": "6752cbec-c763-463a-8670-2be7955e184e",
   "metadata": {},
   "outputs": [],
   "source": [
    "def topic_model(tfidf_model):\n",
    "    LDA=LatentDirichletAllocation(n_components=5,random_state=42)\n",
    "    LDA_model=LDA.fit(tfidf_model)\n",
    "    for index,topic in enumerate(LDA_model.components_):\n",
    "        result=([tfidf.get_feature_names_out()[i] for i in topic.argsort()[-10 :]])\n",
    "        print(result)\n",
    "    topic_results=LDA_model.transform(tfidf_model)\n",
    "    dataset[\"Topic\"]=topic_results.argmax(axis=1) "
   ]
  },
  {
   "cell_type": "code",
   "execution_count": 13,
   "id": "44d21065-09f1-48c0-8203-4d305d3c2dc0",
   "metadata": {},
   "outputs": [],
   "source": [
    "flirt_words = [\n",
    "            'kiss', 'hug', 'date', 'cute', 'beautiful', 'sexy', 'hot', 'adorable', 'uma', 'darling',\n",
    "            'fuck', 'porn', 'x', 'sex', 'matter', 'nipple', 'virgin', 'sperm', 'seduce', 'condom', 'kk'\n",
    "        ]"
   ]
  },
  {
   "cell_type": "code",
   "execution_count": 14,
   "id": "7ebe74b0-3ca7-43aa-ab7a-ca0a98fc12bc",
   "metadata": {},
   "outputs": [],
   "source": [
    "def is_flirty(chat):\n",
    "    chat=chat.lower()\n",
    "    return(int(any(keyword in chat for keyword in flirt_words)))"
   ]
  },
  {
   "cell_type": "code",
   "execution_count": 15,
   "id": "fe137f66-6048-4f0b-9485-b10a6ffde029",
   "metadata": {},
   "outputs": [],
   "source": [
    "labels = [is_flirty(msg) for msg in final_dataset[\"Chat\"]]"
   ]
  },
  {
   "cell_type": "code",
   "execution_count": 16,
   "id": "2be05eb1-c5af-41fc-9297-e497e77aa13f",
   "metadata": {},
   "outputs": [
    {
     "data": {
      "text/plain": [
       "flirt_label\n",
       "0    46\n",
       "1     4\n",
       "Name: count, dtype: int64"
      ]
     },
     "execution_count": 16,
     "metadata": {},
     "output_type": "execute_result"
    }
   ],
   "source": [
    "final_dataset[\"flirt_label\"]=labels\n",
    "final_dataset[\"flirt_label\"].value_counts()"
   ]
  },
  {
   "cell_type": "code",
   "execution_count": 17,
   "id": "ce5417a0-98bc-440d-9202-e1a6f410209d",
   "metadata": {},
   "outputs": [],
   "source": [
    "x_train,x_test,y_train,y_test=train_test_split(final_dataset[\"Chat\"],labels,test_size=0.3,random_state=42,stratify=labels)"
   ]
  },
  {
   "cell_type": "markdown",
   "id": "f837c549-374c-449b-8af8-73e5205710da",
   "metadata": {},
   "source": [
    "#create a dictionary named vectorizers containing three text feature extraction methods"
   ]
  },
  {
   "cell_type": "code",
   "execution_count": 18,
   "id": "c989d384-7d2b-4835-9867-ad1a848a3900",
   "metadata": {},
   "outputs": [],
   "source": [
    "vectorizers={\n",
    "              \"tfidf\" : TfidfVectorizer(max_df=0.95,min_df=2,stop_words='english'),\n",
    "              \"counter\" : CountVectorizer(stop_words='english'),\n",
    "              \"hashing\" : HashingVectorizer(n_features=10,stop_words='english')\n",
    "}"
   ]
  },
  {
   "cell_type": "markdown",
   "id": "290240b7-c7d5-4a6e-8e32-fd82c677667f",
   "metadata": {},
   "source": [
    "#dictionary models where each key is a model name and value is a tuple\n",
    "  'clf_model' in your pipeline is just an arbitrary step name chosen for the classifier part of the pipeline"
   ]
  },
  {
   "cell_type": "code",
   "execution_count": 19,
   "id": "bb51ce6e-0a81-4fa8-8b35-ef64ed834135",
   "metadata": {},
   "outputs": [],
   "source": [
    "models = {\n",
    "    \"MNB\": (\n",
    "        MultinomialNB(),\n",
    "        {\n",
    "            'clf_model__alpha': [0.1, 1.0]\n",
    "        }\n",
    "    ),\n",
    "    \"RF\": (\n",
    "        RandomForestClassifier(),\n",
    "        {\n",
    "            'clf_model__n_estimators': [50, 100],\n",
    "            'clf_model__max_depth': [None, 10]\n",
    "        }\n",
    "    ),\n",
    "    \"LR\": (\n",
    "        LogisticRegression(max_iter=1000),\n",
    "        {\n",
    "            'clf_model__C': [0.1, 1.0, 10]\n",
    "        }\n",
    "    )\n",
    "}"
   ]
  },
  {
   "cell_type": "markdown",
   "id": "0342ecc8-ae1e-448b-a577-11ac292bfde2",
   "metadata": {},
   "source": [
    "loop through each vectorizer (vector_name and its object vector) and each model (model_name, the model, and its hyperparameters params).\n",
    "\n",
    "skip the case where the vectorizer is 'hashing' and the model is 'MNB' because:\n",
    "\n",
    "MultinomialNB requires non-negative feature values.\n",
    "\n",
    "HashingVectorizer can produce negative values, so this combination is incompatible.\n",
    "\n",
    "\n",
    "create a Pipeline to chain two steps:\n",
    "\n",
    "'vect': The vectorizer that transforms raw text into numeric features.\n",
    "\n",
    "'clf_model': The classifier model that learns from those features.\n",
    "\n",
    "Pipelines allow you to treat multiple processing steps as one model, making training and evaluation easier."
   ]
  },
  {
   "cell_type": "code",
   "execution_count": 20,
   "id": "9f213c54-20ad-44f1-86c9-072eb0f15e51",
   "metadata": {},
   "outputs": [
    {
     "name": "stdout",
     "output_type": "stream",
     "text": [
      "\n",
      "Training with tfidf + MNB\n",
      "              precision    recall  f1-score   support\n",
      "\n",
      "  Non-Flirty       1.00      0.79      0.88        14\n",
      "      Flirty       0.25      1.00      0.40         1\n",
      "\n",
      "    accuracy                           0.80        15\n",
      "   macro avg       0.62      0.89      0.64        15\n",
      "weighted avg       0.95      0.80      0.85        15\n",
      "\n",
      "[[11  3]\n",
      " [ 0  1]]\n"
     ]
    },
    {
     "data": {
      "image/png": "[encoded data removed]",
      "text/plain": [
       "<Figure size 640x480 with 2 Axes>"
      ]
     },
     "metadata": {},
     "output_type": "display_data"
    },
    {
     "name": "stdout",
     "output_type": "stream",
     "text": [
      "\n",
      "Training with tfidf + RF\n",
      "              precision    recall  f1-score   support\n",
      "\n",
      "  Non-Flirty       0.93      1.00      0.97        14\n",
      "      Flirty       0.00      0.00      0.00         1\n",
      "\n",
      "    accuracy                           0.93        15\n",
      "   macro avg       0.47      0.50      0.48        15\n",
      "weighted avg       0.87      0.93      0.90        15\n",
      "\n",
      "[[14  0]\n",
      " [ 1  0]]\n"
     ]
    },
    {
     "data": {
      "image/png": "[encoded data removed]",
      "text/plain": [
       "<Figure size 640x480 with 2 Axes>"
      ]
     },
     "metadata": {},
     "output_type": "display_data"
    },
    {
     "name": "stdout",
     "output_type": "stream",
     "text": [
      "\n",
      "Training with tfidf + LR\n",
      "              precision    recall  f1-score   support\n",
      "\n",
      "  Non-Flirty       1.00      0.79      0.88        14\n",
      "      Flirty       0.25      1.00      0.40         1\n",
      "\n",
      "    accuracy                           0.80        15\n",
      "   macro avg       0.62      0.89      0.64        15\n",
      "weighted avg       0.95      0.80      0.85        15\n",
      "\n",
      "[[11  3]\n",
      " [ 0  1]]\n"
     ]
    },
    {
     "data": {
      "image/png": "[encoded data removed]",
      "text/plain": [
       "<Figure size 640x480 with 2 Axes>"
      ]
     },
     "metadata": {},
     "output_type": "display_data"
    },
    {
     "name": "stdout",
     "output_type": "stream",
     "text": [
      "\n",
      "Training with counter + MNB\n",
      "              precision    recall  f1-score   support\n",
      "\n",
      "  Non-Flirty       1.00      0.93      0.96        14\n",
      "      Flirty       0.50      1.00      0.67         1\n",
      "\n",
      "    accuracy                           0.93        15\n",
      "   macro avg       0.75      0.96      0.81        15\n",
      "weighted avg       0.97      0.93      0.94        15\n",
      "\n",
      "[[13  1]\n",
      " [ 0  1]]\n"
     ]
    },
    {
     "data": {
      "image/png": "[encoded data removed]",
      "text/plain": [
       "<Figure size 640x480 with 2 Axes>"
      ]
     },
     "metadata": {},
     "output_type": "display_data"
    },
    {
     "name": "stdout",
     "output_type": "stream",
     "text": [
      "\n",
      "Training with counter + RF\n",
      "              precision    recall  f1-score   support\n",
      "\n",
      "  Non-Flirty       1.00      0.14      0.25        14\n",
      "      Flirty       0.08      1.00      0.14         1\n",
      "\n",
      "    accuracy                           0.20        15\n",
      "   macro avg       0.54      0.57      0.20        15\n",
      "weighted avg       0.94      0.20      0.24        15\n",
      "\n",
      "[[ 2 12]\n",
      " [ 0  1]]\n"
     ]
    },
    {
     "data": {
      "image/png": "[encoded data removed]",
      "text/plain": [
       "<Figure size 640x480 with 2 Axes>"
      ]
     },
     "metadata": {},
     "output_type": "display_data"
    },
    {
     "name": "stdout",
     "output_type": "stream",
     "text": [
      "\n",
      "Training with counter + LR\n",
      "              precision    recall  f1-score   support\n",
      "\n",
      "  Non-Flirty       1.00      0.43      0.60        14\n",
      "      Flirty       0.11      1.00      0.20         1\n",
      "\n",
      "    accuracy                           0.47        15\n",
      "   macro avg       0.56      0.71      0.40        15\n",
      "weighted avg       0.94      0.47      0.57        15\n",
      "\n",
      "[[6 8]\n",
      " [0 1]]\n"
     ]
    },
    {
     "data": {
      "image/png": "[encoded data removed]",
      "text/plain": [
       "<Figure size 640x480 with 2 Axes>"
      ]
     },
     "metadata": {},
     "output_type": "display_data"
    },
    {
     "name": "stdout",
     "output_type": "stream",
     "text": [
      "\n",
      "Training with hashing + RF\n",
      "              precision    recall  f1-score   support\n",
      "\n",
      "  Non-Flirty       0.93      1.00      0.97        14\n",
      "      Flirty       0.00      0.00      0.00         1\n",
      "\n",
      "    accuracy                           0.93        15\n",
      "   macro avg       0.47      0.50      0.48        15\n",
      "weighted avg       0.87      0.93      0.90        15\n",
      "\n",
      "[[14  0]\n",
      " [ 1  0]]\n"
     ]
    },
    {
     "data": {
      "image/png": "[encoded data removed]",
      "text/plain": [
       "<Figure size 640x480 with 2 Axes>"
      ]
     },
     "metadata": {},
     "output_type": "display_data"
    },
    {
     "name": "stdout",
     "output_type": "stream",
     "text": [
      "\n",
      "Training with hashing + LR\n",
      "              precision    recall  f1-score   support\n",
      "\n",
      "  Non-Flirty       0.90      0.64      0.75        14\n",
      "      Flirty       0.00      0.00      0.00         1\n",
      "\n",
      "    accuracy                           0.60        15\n",
      "   macro avg       0.45      0.32      0.38        15\n",
      "weighted avg       0.84      0.60      0.70        15\n",
      "\n",
      "[[9 5]\n",
      " [1 0]]\n"
     ]
    },
    {
     "data": {
      "image/png": "[encoded data removed]",
      "text/plain": [
       "<Figure size 640x480 with 2 Axes>"
      ]
     },
     "metadata": {},
     "output_type": "display_data"
    },
    {
     "name": "stdout",
     "output_type": "stream",
     "text": [
      "Best model is: tfidf + RF with accuracy 0.9333333333333333\n"
     ]
    }
   ],
   "source": [
    "best_accuracy=0\n",
    "best_model=None\n",
    "for vector_name, vector in vectorizers.items():\n",
    "    for model_name, (model, params) in models.items():\n",
    "        if vector_name == 'hashing' and model_name == 'MNB':\n",
    "            continue  # Skip incompatible combination\n",
    "        \n",
    "        print(f\"\\nTraining with {vector_name} + {model_name}\")\n",
    "\n",
    "        pipe = Pipeline([\n",
    "            ('vect', vector),\n",
    "            ('smote', SMOTE(random_state=42,k_neighbors=1)),\n",
    "            ('clf_model', model)\n",
    "        ])\n",
    "        grid=GridSearchCV(pipe,param_grid=params,cv=3,n_jobs=-1,scoring='accuracy')\n",
    "        grid_model=grid.fit(x_train,y_train)\n",
    "        best_pipe=grid_model.best_estimator_\n",
    "        y_pred=best_pipe.predict(x_test)\n",
    "        clf=classification_report(y_test, y_pred, labels=[0,1], target_names=['Non-Flirty', 'Flirty'], zero_division=0)\n",
    "        print(clf)\n",
    "        con_matrix=confusion_matrix(y_test,y_pred)\n",
    "        print(con_matrix)\n",
    "        sb.heatmap(con_matrix,annot=True,fmt=\"d\",cmap=\"Blues\",xticklabels=['FLirty','Non-Flirty'],yticklabels=['FLirty','Non-Flirty'])\n",
    "        plt.title(f\"{vector_name} + {model_name} Confusion Matrix\")\n",
    "        plt.xlabel(\"Predicted\")\n",
    "        plt.ylabel(\"Actual\")\n",
    "        plt.show()\n",
    "        acc = accuracy_score(y_test, y_pred)\n",
    "        if acc > best_accuracy:\n",
    "            best_accuracy = acc\n",
    "            best_model = best_pipe\n",
    "            best_name = f\"{vector_name} + {model_name}\"\n",
    "print(f\"Best model is: {best_name} with accuracy {best_accuracy}\")"
   ]
  },
  {
   "cell_type": "code",
   "execution_count": 21,
   "id": "3e9f419e-901d-4153-a7f9-0082e2bee7bb",
   "metadata": {},
   "outputs": [],
   "source": [
    "import pickle\n",
    "with open('best flirt model.pkl','wb') as f:\n",
    "    pickle.dump(best_model,f) "
   ]
  },
  {
   "cell_type": "code",
   "execution_count": null,
   "id": "a3ed007a-7227-4855-a59c-92b5d9dca452",
   "metadata": {},
   "outputs": [],
   "source": []
  }
 ],
 "metadata": {
  "kernelspec": {
   "display_name": "Python 3 (ipykernel)",
   "language": "python",
   "name": "python3"
  },
  "language_info": {
   "codemirror_mode": {
    "name": "ipython",
    "version": 3
   },
   "file_extension": ".py",
   "mimetype": "text/x-python",
   "name": "python",
   "nbconvert_exporter": "python",
   "pygments_lexer": "ipython3",
   "version": "3.12.3"
  }
 },
 "nbformat": 4,
 "nbformat_minor": 5
}
