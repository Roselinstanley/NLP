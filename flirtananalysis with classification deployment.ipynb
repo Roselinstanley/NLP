{
 "cells": [
  {
   "cell_type": "code",
   "execution_count": 2,
   "id": "fc2178d4-294e-4e56-80a1-a4b8cf74d845",
   "metadata": {},
   "outputs": [
    {
     "name": "stdout",
     "output_type": "stream",
     "text": [
      "Model classes: [0 1]\n",
      "Hey cutie, what are you doing tonight? => Flirty (Probability: 0.50)\n",
      "Can you send me the report? => Non-Flirty (Probability: 0.11)\n",
      "You have a beautiful smile => Flirty (Probability: 0.50)\n",
      "Let's meet tomorrow for the assignment. => Non-Flirty (Probability: 0.08)\n"
     ]
    }
   ],
   "source": [
    "from joblib import load\n",
    "\n",
    "# Load your trained pipeline/model\n",
    "model = load('deployable_model.pkl')\n",
    "\n",
    "# Example messages to classify\n",
    "messages = [\n",
    "    \"Hey cutie, what are you doing tonight?\",\n",
    "    \"Can you send me the report?\",\n",
    "    \"You have a beautiful smile\",\n",
    "    \"Let's meet tomorrow for the assignment.\"\n",
    "]\n",
    "\n",
    "print(\"Model classes:\", model.classes_)\n",
    "\n",
    "# Get predicted probabilities for each message\n",
    "probs = model.predict_proba(messages)\n",
    "\n",
    "# Set your custom threshold here\n",
    "threshold = 0.3  # Try 0.3, 0.4, 0.5, etc.\n",
    "\n",
    "# Predict based on the threshold and print results\n",
    "for msg, prob in zip(messages, probs):\n",
    "    pred = 1 if prob[1] >= threshold else 0\n",
    "    print(f\"{msg} => {'Flirty' if pred == 1 else 'Non-Flirty'} (Probability: {prob[1]:.2f})\")\n"
   ]
  },
  {
   "cell_type": "code",
   "execution_count": null,
   "id": "17cd0253-0f05-4527-90a9-2c2129169435",
   "metadata": {},
   "outputs": [],
   "source": []
  }
 ],
 "metadata": {
  "kernelspec": {
   "display_name": "Python 3 (ipykernel)",
   "language": "python",
   "name": "python3"
  },
  "language_info": {
   "codemirror_mode": {
    "name": "ipython",
    "version": 3
   },
   "file_extension": ".py",
   "mimetype": "text/x-python",
   "name": "python",
   "nbconvert_exporter": "python",
   "pygments_lexer": "ipython3",
   "version": "3.12.3"
  }
 },
 "nbformat": 4,
 "nbformat_minor": 5
}
