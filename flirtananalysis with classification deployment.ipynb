{
 "cells": [
  {
   "cell_type": "code",
   "execution_count": 1,
   "id": "fc2178d4-294e-4e56-80a1-a4b8cf74d845",
   "metadata": {},
   "outputs": [
    {
     "name": "stdout",
     "output_type": "stream",
     "text": [
      "Hey cutie, what are you doing tonight? => Non-Flirty\n",
      "Can you send me the report? => Non-Flirty\n",
      "You have a beautiful smile => Non-Flirty\n",
      "Let's meet tomorrow for the assignment. => Non-Flirty\n"
     ]
    }
   ],
   "source": [
    "import pickle\n",
    "from sklearn.feature_extraction.text import CountVectorizer\n",
    "with open ('best flirt model.pkl','rb') as f:\n",
    "    final_model = pickle.load(f) \n",
    "# Example new WhatsApp messages\n",
    "\n",
    "messages = [\"Hey cutie, what are you doing tonight?\",\n",
    "            \"Can you send me the report?\",\n",
    "            \"You have a beautiful smile\",\n",
    "            \"Let's meet tomorrow for the assignment.\"]\n",
    "\n",
    "preds =final_model.predict(messages)\n",
    "for msg, p in zip(messages, preds):\n",
    "    print(f\"{msg} => {'Flirty' if p == 1 else 'Non-Flirty'}\")\n"
   ]
  },
  {
   "cell_type": "code",
   "execution_count": null,
   "id": "17cd0253-0f05-4527-90a9-2c2129169435",
   "metadata": {},
   "outputs": [],
   "source": []
  }
 ],
 "metadata": {
  "kernelspec": {
   "display_name": "Python 3 (ipykernel)",
   "language": "python",
   "name": "python3"
  },
  "language_info": {
   "codemirror_mode": {
    "name": "ipython",
    "version": 3
   },
   "file_extension": ".py",
   "mimetype": "text/x-python",
   "name": "python",
   "nbconvert_exporter": "python",
   "pygments_lexer": "ipython3",
   "version": "3.12.3"
  }
 },
 "nbformat": 4,
 "nbformat_minor": 5
}
